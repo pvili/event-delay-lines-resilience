{
 "cells": [
  {
   "cell_type": "code",
   "execution_count": 320,
   "metadata": {
    "collapsed": true
   },
   "outputs": [],
   "source": [
    "# train to detect a single input spike train\n",
    "import math\n",
    "import cmath\n",
    "import numpy as np\n",
    "from numpy import linalg"
   ]
  },
  {
   "cell_type": "code",
   "execution_count": 352,
   "metadata": {
    "collapsed": false
   },
   "outputs": [],
   "source": [
    "# the patterns are a list of vectors, each vector entry contains a time value between 0,T\n",
    "#the different vectors are noisy versions of the same spike pattern\n",
    "T = 1\n",
    "V_target = 1.2\n",
    "w = math.pi/T/2\n",
    "regularizer = 0.01\n",
    "\n",
    "\n",
    "def addRandomPatterns(complexPattern, numNoisy):\n",
    "    l = len(complexPattern[0])\n",
    "    for n in range(numNoisy):\n",
    "        complexPattern.append(np.random.random(l))\n",
    "    return complexPattern\n",
    "\n",
    "def numbersToPhases(numbersVec):\n",
    "    listComplex = [int(t>=0)*cmath.exp(t*w*1j) for t in numbersVec]\n",
    "    return listComplex\n",
    "\n",
    "def phasesToNumbers(complexVec):\n",
    "    listPhases = [cmath.phase(c) for c in complexVec]\n",
    "    listNumbers = [(ph%w)/w for ph in listPhases ]\n",
    "    return listNumbers\n",
    "\n",
    "def regressionWithPseudoInv(dataMtx, ouptutVec):\n",
    "    ##Using the classical pseudoinverse\n",
    "    pInvComplexData = linalg.pinv(dataMtx)\n",
    "    resultW = np.matmul(pInvComplexData,ouptutVec)\n",
    "    return resultW\n",
    "\n",
    "def regressionWithRegularizer(dataMtx, ouptutVec):\n",
    "    ##Using a regularizer (to prevent weight explosion)\n",
    "    dataMtxT = np.transpose(dataMtx)\n",
    "    regInvComplex = linalg.inv(np.matmul(dataMtxT, dataMtx) - regularizer*np.eye(numberNeurons))\n",
    "    regInvProjComplex = np.matmul(regInvComplex,dataMtxT)\n",
    "    resultW = np.matmul(regInvProjComplex,ouptutVec)\n",
    "    return resultW\n",
    "        \n",
    "def recoverDelaysOnePattern(patternsToDetect):\n",
    "    #Encode spikes as complex numbers\n",
    "    countPatterns = len(patternsToDetect)\n",
    "    countNoisePatterns = numberNoisePatterns\n",
    "    complexPattern = [numbersToPhases(singlePattern) for singlePattern in patternsToDetect]\n",
    "    \n",
    "    #add random examples which do NOT correspond to the pattern\n",
    "    complexPatternWithCounterExamples = addRandomPatterns(complexPattern,countNoisePatterns)\n",
    "    \n",
    "    detectPattern = [int(n<countPatterns)*V_target for n in range(0,countNoisePatterns + countPatterns)]\n",
    "    \n",
    "    #to numpy format\n",
    "    complexData = numpy.array(complexPatternWithCounterExamples)\n",
    "    outputPattern = numpy.array(detectPattern)\n",
    "    \n",
    "    #obtain the complex weights\n",
    "    resultW = regressionWithPseudoInv(complexData, outputPattern)\n",
    "    #Complex weights to delays and weights (weights = neuron reliability)\n",
    "    delays = phasesToNumbers(resultW)\n",
    "    weights = [abs(w) for w in resultW]\n",
    "    \n",
    "    return (delays,weights)"
   ]
  },
  {
   "cell_type": "code",
   "execution_count": 355,
   "metadata": {
    "collapsed": false
   },
   "outputs": [],
   "source": [
    "#Generate a toy example\n",
    "numberNeurons = 10\n",
    "numberExamples = 100 ##WARNING: numberNeurons < numberExamples => very high weights (but delays ok); degenerated inverse\n",
    "numberNoisePatterns = 0#10*numberExamples\n",
    "\n",
    "jitter = 0.05*T\n",
    "noSpikeProb = 0.05\n",
    "\n",
    "\n",
    "def noisedSpike(cleanTime):\n",
    "    if np.random.rand()<noSpikeProb:\n",
    "        t = 0\n",
    "    else:\n",
    "        t = min(max(0,cleanTime + numpy.random.rand()*jitter),T)\n",
    "    return t\n",
    "\n",
    "def noisedPattern(patternDelays):\n",
    "    noisedSpikes = [noisedSpike(t) for t in patternDelays]\n",
    "    return noisedSpikes\n",
    "\n",
    "def generateInputSpikeTrains(patternDelays):\n",
    "    inputPattern = [noisedPattern(patternDelays) for n in range(numberExamples)]\n",
    "    return inputPattern"
   ]
  },
  {
   "cell_type": "code",
   "execution_count": 356,
   "metadata": {
    "collapsed": false
   },
   "outputs": [
    {
     "name": "stdout",
     "output_type": "stream",
     "text": [
      "The delays + spike timing should average to 1, and they add up to: 1.0517369308573552\n",
      "The weights should average to 1.2 and they add up to 1.2114245086411495\n"
     ]
    }
   ],
   "source": [
    "patternDelays = np.random.rand(numberNeurons)*T\n",
    "complexDelays = numbersToPhases(patternDelays)\n",
    "\n",
    "patternsToDetect = generateInputSpikeTrains(patternDelays)\n",
    "\n",
    "\n",
    "recoveredDelays, weights = recoverDelaysOnePattern(patternsToDetect)\n",
    "\n",
    "\n",
    "totalLatency = [rec + pat for (rec,pat) in zip(recoveredDelays,patternDelays)]\n",
    "\n",
    "\n",
    "#Performance of the delay recovery:\n",
    "print('The delays + spike timing should average to ' +str(T)+', and they add up to: '+str(sum(totalLatency)/numberNeurons))\n",
    "print('The weights should average to '+ str(V_target)+ ' and they add up to '+str(sum(weights)))"
   ]
  },
  {
   "cell_type": "code",
   "execution_count": null,
   "metadata": {
    "collapsed": false
   },
   "outputs": [],
   "source": []
  },
  {
   "cell_type": "code",
   "execution_count": 229,
   "metadata": {
    "collapsed": false
   },
   "outputs": [
    {
     "name": "stdout",
     "output_type": "stream",
     "text": [
      "1.4142135623730951\n"
     ]
    }
   ],
   "source": []
  },
  {
   "cell_type": "code",
   "execution_count": 138,
   "metadata": {
    "collapsed": false
   },
   "outputs": [
    {
     "data": {
      "text/plain": [
       "0.10000000000000026"
      ]
     },
     "execution_count": 138,
     "metadata": {},
     "output_type": "execute_result"
    }
   ],
   "source": []
  },
  {
   "cell_type": "code",
   "execution_count": 236,
   "metadata": {
    "collapsed": false
   },
   "outputs": [
    {
     "data": {
      "text/plain": [
       "array([[1., 0., 0., 0., 0., 0., 0., 0., 0., 0.],\n",
       "       [0., 1., 0., 0., 0., 0., 0., 0., 0., 0.],\n",
       "       [0., 0., 1., 0., 0., 0., 0., 0., 0., 0.],\n",
       "       [0., 0., 0., 1., 0., 0., 0., 0., 0., 0.],\n",
       "       [0., 0., 0., 0., 1., 0., 0., 0., 0., 0.],\n",
       "       [0., 0., 0., 0., 0., 1., 0., 0., 0., 0.],\n",
       "       [0., 0., 0., 0., 0., 0., 1., 0., 0., 0.],\n",
       "       [0., 0., 0., 0., 0., 0., 0., 1., 0., 0.],\n",
       "       [0., 0., 0., 0., 0., 0., 0., 0., 1., 0.],\n",
       "       [0., 0., 0., 0., 0., 0., 0., 0., 0., 1.]])"
      ]
     },
     "execution_count": 236,
     "metadata": {},
     "output_type": "execute_result"
    }
   ],
   "source": [
    "\n"
   ]
  },
  {
   "cell_type": "code",
   "execution_count": null,
   "metadata": {
    "collapsed": true
   },
   "outputs": [],
   "source": []
  }
 ],
 "metadata": {
  "kernelspec": {
   "display_name": "Python 3",
   "language": "python",
   "name": "python3"
  },
  "language_info": {
   "codemirror_mode": {
    "name": "ipython",
    "version": 3
   },
   "file_extension": ".py",
   "mimetype": "text/x-python",
   "name": "python",
   "nbconvert_exporter": "python",
   "pygments_lexer": "ipython3",
   "version": "3.5.3"
  }
 },
 "nbformat": 4,
 "nbformat_minor": 2
}
